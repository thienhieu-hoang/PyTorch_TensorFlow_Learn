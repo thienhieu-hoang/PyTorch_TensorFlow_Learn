{
 "cells": [
  {
   "cell_type": "markdown",
   "metadata": {},
   "source": [
    "Example code of how to set progress bar using tqdm that is very efficient and nicely looking.\n",
    "\n",
    "Programmed by Aladdin Persson <aladdin.persson at hotmail dot com>\n",
    "*    2020-05-09 Initial coding\n",
    "*    2022-12-19 Updated with more detailed comments, and checked code works with latest PyTorch.\n"
   ]
  },
  {
   "cell_type": "code",
   "execution_count": null,
   "metadata": {},
   "outputs": [],
   "source": [
    "import torch\n",
    "import torch.nn as nn\n",
    "from tqdm import tqdm\n",
    "from torch.utils.data import TensorDataset, DataLoader"
   ]
  },
  {
   "cell_type": "code",
   "execution_count": null,
   "metadata": {},
   "outputs": [],
   "source": [
    "# Create a simple toy dataset\n",
    "x = torch.randn((1000, 3, 224, 224))\n",
    "y = torch.randint(low=0, high=10, size=(1000, 1))\n",
    "ds = TensorDataset(x, y)\n",
    "loader = DataLoader(ds, batch_size=8)"
   ]
  },
  {
   "cell_type": "code",
   "execution_count": null,
   "metadata": {},
   "outputs": [],
   "source": [
    "model = nn.Sequential(\n",
    "    nn.Conv2d(in_channels=3, out_channels=10, kernel_size=3, padding=1, stride=1),\n",
    "    nn.Flatten(),\n",
    "    nn.Linear(10 * 224 * 224, 10),\n",
    ")"
   ]
  },
  {
   "cell_type": "code",
   "execution_count": null,
   "metadata": {},
   "outputs": [],
   "source": [
    "NUM_EPOCHS = 10\n",
    "for epoch in range(NUM_EPOCHS):\n",
    "    loop = tqdm(loader)\n",
    "    for idx, (x, y) in enumerate(loop):\n",
    "        scores = model(x)\n",
    "\n",
    "        # here we would compute loss, backward, optimizer step etc.\n",
    "        # you know how it goes, but now you have a nice progress bar\n",
    "        # with tqdm\n",
    "\n",
    "        # then at the bottom if you want additional info shown, you can\n",
    "        # add it here, for loss and accuracy you would obviously compute\n",
    "        # but now we just set them to random values\n",
    "        loop.set_description(f\"Epoch [{epoch}/{NUM_EPOCHS}]\")\n",
    "        loop.set_postfix(loss=torch.rand(1).item(), acc=torch.rand(1).item())\n",
    "\n",
    "# There you go. Hope it was useful :)"
   ]
  }
 ],
 "metadata": {
  "language_info": {
   "name": "python"
  }
 },
 "nbformat": 4,
 "nbformat_minor": 2
}
